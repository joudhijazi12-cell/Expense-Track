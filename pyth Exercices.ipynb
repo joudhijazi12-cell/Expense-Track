{
 "cells": [
  {
   "cell_type": "code",
   "execution_count": 3,
   "id": "4d2e682c",
   "metadata": {},
   "outputs": [
    {
     "name": "stdout",
     "output_type": "stream",
     "text": [
      "the user zainab is 35 years old\n"
     ]
    }
   ],
   "source": [
    "name = input(\"Enter your name\")\n",
    "age = input( \"Enmter your age\")\n",
    "print(f\"the user {name} is {age} years old\")"
   ]
  },
  {
   "cell_type": "code",
   "execution_count": 8,
   "id": "be3567af",
   "metadata": {},
   "outputs": [
    {
     "name": "stdout",
     "output_type": "stream",
     "text": [
      "the number7 is an odd number\n",
      "69is not a multiplier of87\n"
     ]
    }
   ],
   "source": [
    "number = int(input(\"Choose an integer number\"))\n",
    "if number == 0:\n",
    " print(\"Choose a number different than zero\")\n",
    "elif number % 4 ==0:\n",
    " print(f\"the number {number} is a multiple of 4\")\n",
    " \n",
    "elif number % 2 ==0:\n",
    " print(f\"the number {number} is an even number\")\n",
    "else:\n",
    " print(f\"the number{number} is an odd number\")\n",
    "\n",
    "check= int(input(\"enter a check number\"))\n",
    "divide= int(input(\"enter a divide number\"))\n",
    "if check  % divide==0:\n",
    " print(f'{check}is a multiplier of{divide}')\n",
    "else:\n",
    " print(f'{check}is not a multiplier of{divide}')\n",
    "\n",
    "\n",
    "\n"
   ]
  },
  {
   "cell_type": "code",
   "execution_count": 31,
   "id": "e1d6b7d8",
   "metadata": {},
   "outputs": [
    {
     "name": "stdout",
     "output_type": "stream",
     "text": [
      "[2, 16]\n",
      "[3, 17]\n"
     ]
    }
   ],
   "source": [
    "def first_last (a):\n",
    "    if not a :\n",
    "        return []\n",
    "    first=a[0]\n",
    "    last=a[-1]\n",
    "    return [first,last]\n",
    "print(first_last([2,10,7,9,16]))\n",
    "\n",
    "def first_and_last (b):\n",
    "    return[] if not b else [b[0],b[-1]]\n",
    "print( first_and_last([3,90,15,5,17]))\n",
    "\n",
    "\n"
   ]
  },
  {
   "cell_type": "code",
   "execution_count": 87,
   "id": "54075b42",
   "metadata": {},
   "outputs": [
    {
     "name": "stdout",
     "output_type": "stream",
     "text": [
      "checking if2 is in[1, 2, 8, 9, 17, 98]: True\n"
     ]
    },
    {
     "data": {
      "text/plain": [
       "True"
      ]
     },
     "execution_count": 87,
     "metadata": {},
     "output_type": "execute_result"
    }
   ],
   "source": [
    "def find_element (given_list, given_number):\n",
    "    given_list.sort()\n",
    "    is_present = given_number in given_list\n",
    "    print(f\"checking if{given_number} is in{given_list}: {is_present}\")\n",
    "    return is_present\n",
    "    \n",
    "find_element([2,8,9,1,17,98],2)"
   ]
  },
  {
   "cell_type": "code",
   "execution_count": 118,
   "id": "e9895357",
   "metadata": {},
   "outputs": [
    {
     "name": "stdout",
     "output_type": "stream",
     "text": [
      "[[-1, -1, 2], [-1, 0, 1]]\n"
     ]
    }
   ],
   "source": [
    "def three_sum (nums):\n",
    "    result= []\n",
    "    nums.sort()\n",
    "    n= len(nums)\n",
    "    for i in range (n-2):\n",
    "        if i>0 and nums[i]==nums[i-1]:\n",
    "            continue\n",
    "        left,right=i+1,n-1\n",
    "        while left<right:\n",
    "            current_sum=nums[i]+nums[left]+nums[right]\n",
    "            if current_sum ==0:\n",
    "                result.append([nums[i],nums[left],nums[right]])\n",
    "                left+=1\n",
    "                right-=1\n",
    "                while left<right and nums[left]==nums[left-1]:\n",
    "                    left+=1\n",
    "        \n",
    "        \n",
    "                while left<right and nums[right]==nums[right+1]:\n",
    "                    right-=1\n",
    "            elif current_sum<0:\n",
    "                left+=1\n",
    "            else:\n",
    "                right-=1\n",
    "    return result                       \n",
    "\n",
    "\n",
    "        \n",
    "nums=[-1,0,1,2,-1,-4]\n",
    "print(three_sum (nums))    "
   ]
  },
  {
   "cell_type": "code",
   "execution_count": 114,
   "id": "f3a9c109",
   "metadata": {},
   "outputs": [
    {
     "name": "stdout",
     "output_type": "stream",
     "text": [
      "['hi', 'i', 'love', 'i', 'never', 'had', 'hi', 'again']\n"
     ]
    },
    {
     "data": {
      "text/plain": [
       "{'hi': 1}"
      ]
     },
     "execution_count": 114,
     "metadata": {},
     "output_type": "execute_result"
    }
   ],
   "source": [
    "def count_words(x):\n",
    "    a=x.lower().split()\n",
    "    print(a)\n",
    "    x_count={}\n",
    "    for word in a:\n",
    "        x_count[word]=x_count.get(word,0) \n",
    "        x_count[word]+=1\n",
    "\n",
    "        return x_count\n",
    "    \n",
    "count_words(\"hi i love i never had hi again\")    \n",
    "\n"
   ]
  },
  {
   "cell_type": "code",
   "execution_count": 115,
   "id": "dabcfa94",
   "metadata": {},
   "outputs": [
    {
     "name": "stdout",
     "output_type": "stream",
     "text": [
      "['hi', 'i', 'love', 'i', 'never', 'had', 'hi', 'again']\n",
      "{'hi': 2, 'i': 2, 'love': 1, 'never': 1, 'had': 1, 'again': 1}\n"
     ]
    }
   ],
   "source": [
    "def count_words(x):\n",
    "    a=x.lower().split()\n",
    "    print(a)\n",
    "    x_count={}\n",
    "    for word in a:\n",
    "        if word in x_count:\n",
    "            x_count[word]+=1\n",
    "        else:\n",
    "            x_count[word]=1\n",
    "    return x_count\n",
    "\n",
    "text=\"hi i love i never had hi again\"    \n",
    "result=count_words(text)\n",
    "print(result)        "
   ]
  }
 ],
 "metadata": {
  "kernelspec": {
   "display_name": "Python 3",
   "language": "python",
   "name": "python3"
  },
  "language_info": {
   "codemirror_mode": {
    "name": "ipython",
    "version": 3
   },
   "file_extension": ".py",
   "mimetype": "text/x-python",
   "name": "python",
   "nbconvert_exporter": "python",
   "pygments_lexer": "ipython3",
   "version": "3.10.10"
  }
 },
 "nbformat": 4,
 "nbformat_minor": 5
}
